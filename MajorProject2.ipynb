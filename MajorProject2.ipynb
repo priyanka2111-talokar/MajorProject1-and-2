{
  "cells": [
    {
      "cell_type": "code",
      "execution_count": null,
      "metadata": {
        "colab": {
          "background_save": true
        },
        "id": "7dR2B-x-R5xF"
      },
      "outputs": [],
      "source": [
        "# 2.CHOOSE ANY DATASET OF YOUR CHOICE AND PERFORM EXPLORATORY DATA ANALYSIS FOR ATLEAST 15 DIFFERENT FACTS/CONCLUSIONS"
      ]
    },
    {
      "cell_type": "code",
      "execution_count": null,
      "metadata": {
        "id": "V5OSxVA99BsK"
      },
      "outputs": [],
      "source": [
        "# EXPLORATORY DATA ANALYSIS\n",
        "# DATASET - '/content/master.csv.zip'"
      ]
    },
    {
      "cell_type": "code",
      "execution_count": 33,
      "metadata": {
        "id": "UWPdzniP9B8U",
        "colab": {
          "base_uri": "https://localhost:8080/",
          "height": 659
        },
        "outputId": "3b2a3c28-8a8d-4eee-88d8-f3f8620b691a"
      },
      "outputs": [
        {
          "output_type": "execute_result",
          "data": {
            "text/plain": [
              "                        country  year     sex          age  suicides_no  \\\n",
              "0                       Albania  1987    male  15-24 years         21.0   \n",
              "1                       Albania  1987    male  35-54 years         16.0   \n",
              "2                       Albania  1987  female  15-24 years         14.0   \n",
              "3                       Albania  1987    male    75+ years          1.0   \n",
              "4                       Albania  1987    male  25-34 years          9.0   \n",
              "...                         ...   ...     ...          ...          ...   \n",
              "31751                   Ukraine  2017  female    75+ years        256.0   \n",
              "31752            United Kingdom  2017  female    75+ years        104.0   \n",
              "31753  United States of America  2017  female    75+ years        501.0   \n",
              "31754                   Uruguay  2017  female    75+ years         14.0   \n",
              "31755                Uzbekistan  2017  female    75+ years          3.0   \n",
              "\n",
              "       population  suicides/100k pop                  country-year  \\\n",
              "0          312900           6.710000                   Albania1987   \n",
              "1          308000           5.190000                   Albania1987   \n",
              "2          289700           4.830000                   Albania1987   \n",
              "3           21800           4.590000                   Albania1987   \n",
              "4          274300           3.280000                   Albania1987   \n",
              "...           ...                ...                           ...   \n",
              "31751    44831135           0.571032                   Ukraine2017   \n",
              "31752    66058859           0.157435            United Kingdom2017   \n",
              "31753   325122128           0.154096  United States of America2017   \n",
              "31754     3422200           0.409094                   Uruguay2017   \n",
              "31755    32388600           0.009263                Uzbekistan2017   \n",
              "\n",
              "       HDI for year  gdp_for_year ($)   gdp_per_capita ($)       generation  \n",
              "0               NaN     2,15,66,24,900          796.000000     Generation X  \n",
              "1               NaN     2,15,66,24,900          796.000000           Silent  \n",
              "2               NaN     2,15,66,24,900          796.000000     Generation X  \n",
              "3               NaN     2,15,66,24,900          796.000000  G.I. Generation  \n",
              "4               NaN     2,15,66,24,900          796.000000          Boomers  \n",
              "...             ...                ...                 ...              ...  \n",
              "31751      0.785458           1.12E+11         2638.326055  G.I. Generation  \n",
              "31752      0.914735           2.70E+12        40857.755580  G.I. Generation  \n",
              "31753      0.918620           1.95E+13        60109.655730  G.I. Generation  \n",
              "31754      0.816745        64233966861        18690.893840  G.I. Generation  \n",
              "31755      0.691258        62081323299         1916.764642  G.I. Generation  \n",
              "\n",
              "[31756 rows x 12 columns]"
            ],
            "text/html": [
              "\n",
              "  <div id=\"df-2b1ece2f-101d-454a-a5f7-b83b4221c0bf\">\n",
              "    <div class=\"colab-df-container\">\n",
              "      <div>\n",
              "<style scoped>\n",
              "    .dataframe tbody tr th:only-of-type {\n",
              "        vertical-align: middle;\n",
              "    }\n",
              "\n",
              "    .dataframe tbody tr th {\n",
              "        vertical-align: top;\n",
              "    }\n",
              "\n",
              "    .dataframe thead th {\n",
              "        text-align: right;\n",
              "    }\n",
              "</style>\n",
              "<table border=\"1\" class=\"dataframe\">\n",
              "  <thead>\n",
              "    <tr style=\"text-align: right;\">\n",
              "      <th></th>\n",
              "      <th>country</th>\n",
              "      <th>year</th>\n",
              "      <th>sex</th>\n",
              "      <th>age</th>\n",
              "      <th>suicides_no</th>\n",
              "      <th>population</th>\n",
              "      <th>suicides/100k pop</th>\n",
              "      <th>country-year</th>\n",
              "      <th>HDI for year</th>\n",
              "      <th>gdp_for_year ($)</th>\n",
              "      <th>gdp_per_capita ($)</th>\n",
              "      <th>generation</th>\n",
              "    </tr>\n",
              "  </thead>\n",
              "  <tbody>\n",
              "    <tr>\n",
              "      <th>0</th>\n",
              "      <td>Albania</td>\n",
              "      <td>1987</td>\n",
              "      <td>male</td>\n",
              "      <td>15-24 years</td>\n",
              "      <td>21.0</td>\n",
              "      <td>312900</td>\n",
              "      <td>6.710000</td>\n",
              "      <td>Albania1987</td>\n",
              "      <td>NaN</td>\n",
              "      <td>2,15,66,24,900</td>\n",
              "      <td>796.000000</td>\n",
              "      <td>Generation X</td>\n",
              "    </tr>\n",
              "    <tr>\n",
              "      <th>1</th>\n",
              "      <td>Albania</td>\n",
              "      <td>1987</td>\n",
              "      <td>male</td>\n",
              "      <td>35-54 years</td>\n",
              "      <td>16.0</td>\n",
              "      <td>308000</td>\n",
              "      <td>5.190000</td>\n",
              "      <td>Albania1987</td>\n",
              "      <td>NaN</td>\n",
              "      <td>2,15,66,24,900</td>\n",
              "      <td>796.000000</td>\n",
              "      <td>Silent</td>\n",
              "    </tr>\n",
              "    <tr>\n",
              "      <th>2</th>\n",
              "      <td>Albania</td>\n",
              "      <td>1987</td>\n",
              "      <td>female</td>\n",
              "      <td>15-24 years</td>\n",
              "      <td>14.0</td>\n",
              "      <td>289700</td>\n",
              "      <td>4.830000</td>\n",
              "      <td>Albania1987</td>\n",
              "      <td>NaN</td>\n",
              "      <td>2,15,66,24,900</td>\n",
              "      <td>796.000000</td>\n",
              "      <td>Generation X</td>\n",
              "    </tr>\n",
              "    <tr>\n",
              "      <th>3</th>\n",
              "      <td>Albania</td>\n",
              "      <td>1987</td>\n",
              "      <td>male</td>\n",
              "      <td>75+ years</td>\n",
              "      <td>1.0</td>\n",
              "      <td>21800</td>\n",
              "      <td>4.590000</td>\n",
              "      <td>Albania1987</td>\n",
              "      <td>NaN</td>\n",
              "      <td>2,15,66,24,900</td>\n",
              "      <td>796.000000</td>\n",
              "      <td>G.I. Generation</td>\n",
              "    </tr>\n",
              "    <tr>\n",
              "      <th>4</th>\n",
              "      <td>Albania</td>\n",
              "      <td>1987</td>\n",
              "      <td>male</td>\n",
              "      <td>25-34 years</td>\n",
              "      <td>9.0</td>\n",
              "      <td>274300</td>\n",
              "      <td>3.280000</td>\n",
              "      <td>Albania1987</td>\n",
              "      <td>NaN</td>\n",
              "      <td>2,15,66,24,900</td>\n",
              "      <td>796.000000</td>\n",
              "      <td>Boomers</td>\n",
              "    </tr>\n",
              "    <tr>\n",
              "      <th>...</th>\n",
              "      <td>...</td>\n",
              "      <td>...</td>\n",
              "      <td>...</td>\n",
              "      <td>...</td>\n",
              "      <td>...</td>\n",
              "      <td>...</td>\n",
              "      <td>...</td>\n",
              "      <td>...</td>\n",
              "      <td>...</td>\n",
              "      <td>...</td>\n",
              "      <td>...</td>\n",
              "      <td>...</td>\n",
              "    </tr>\n",
              "    <tr>\n",
              "      <th>31751</th>\n",
              "      <td>Ukraine</td>\n",
              "      <td>2017</td>\n",
              "      <td>female</td>\n",
              "      <td>75+ years</td>\n",
              "      <td>256.0</td>\n",
              "      <td>44831135</td>\n",
              "      <td>0.571032</td>\n",
              "      <td>Ukraine2017</td>\n",
              "      <td>0.785458</td>\n",
              "      <td>1.12E+11</td>\n",
              "      <td>2638.326055</td>\n",
              "      <td>G.I. Generation</td>\n",
              "    </tr>\n",
              "    <tr>\n",
              "      <th>31752</th>\n",
              "      <td>United Kingdom</td>\n",
              "      <td>2017</td>\n",
              "      <td>female</td>\n",
              "      <td>75+ years</td>\n",
              "      <td>104.0</td>\n",
              "      <td>66058859</td>\n",
              "      <td>0.157435</td>\n",
              "      <td>United Kingdom2017</td>\n",
              "      <td>0.914735</td>\n",
              "      <td>2.70E+12</td>\n",
              "      <td>40857.755580</td>\n",
              "      <td>G.I. Generation</td>\n",
              "    </tr>\n",
              "    <tr>\n",
              "      <th>31753</th>\n",
              "      <td>United States of America</td>\n",
              "      <td>2017</td>\n",
              "      <td>female</td>\n",
              "      <td>75+ years</td>\n",
              "      <td>501.0</td>\n",
              "      <td>325122128</td>\n",
              "      <td>0.154096</td>\n",
              "      <td>United States of America2017</td>\n",
              "      <td>0.918620</td>\n",
              "      <td>1.95E+13</td>\n",
              "      <td>60109.655730</td>\n",
              "      <td>G.I. Generation</td>\n",
              "    </tr>\n",
              "    <tr>\n",
              "      <th>31754</th>\n",
              "      <td>Uruguay</td>\n",
              "      <td>2017</td>\n",
              "      <td>female</td>\n",
              "      <td>75+ years</td>\n",
              "      <td>14.0</td>\n",
              "      <td>3422200</td>\n",
              "      <td>0.409094</td>\n",
              "      <td>Uruguay2017</td>\n",
              "      <td>0.816745</td>\n",
              "      <td>64233966861</td>\n",
              "      <td>18690.893840</td>\n",
              "      <td>G.I. Generation</td>\n",
              "    </tr>\n",
              "    <tr>\n",
              "      <th>31755</th>\n",
              "      <td>Uzbekistan</td>\n",
              "      <td>2017</td>\n",
              "      <td>female</td>\n",
              "      <td>75+ years</td>\n",
              "      <td>3.0</td>\n",
              "      <td>32388600</td>\n",
              "      <td>0.009263</td>\n",
              "      <td>Uzbekistan2017</td>\n",
              "      <td>0.691258</td>\n",
              "      <td>62081323299</td>\n",
              "      <td>1916.764642</td>\n",
              "      <td>G.I. Generation</td>\n",
              "    </tr>\n",
              "  </tbody>\n",
              "</table>\n",
              "<p>31756 rows × 12 columns</p>\n",
              "</div>\n",
              "      <button class=\"colab-df-convert\" onclick=\"convertToInteractive('df-2b1ece2f-101d-454a-a5f7-b83b4221c0bf')\"\n",
              "              title=\"Convert this dataframe to an interactive table.\"\n",
              "              style=\"display:none;\">\n",
              "        \n",
              "  <svg xmlns=\"http://www.w3.org/2000/svg\" height=\"24px\"viewBox=\"0 0 24 24\"\n",
              "       width=\"24px\">\n",
              "    <path d=\"M0 0h24v24H0V0z\" fill=\"none\"/>\n",
              "    <path d=\"M18.56 5.44l.94 2.06.94-2.06 2.06-.94-2.06-.94-.94-2.06-.94 2.06-2.06.94zm-11 1L8.5 8.5l.94-2.06 2.06-.94-2.06-.94L8.5 2.5l-.94 2.06-2.06.94zm10 10l.94 2.06.94-2.06 2.06-.94-2.06-.94-.94-2.06-.94 2.06-2.06.94z\"/><path d=\"M17.41 7.96l-1.37-1.37c-.4-.4-.92-.59-1.43-.59-.52 0-1.04.2-1.43.59L10.3 9.45l-7.72 7.72c-.78.78-.78 2.05 0 2.83L4 21.41c.39.39.9.59 1.41.59.51 0 1.02-.2 1.41-.59l7.78-7.78 2.81-2.81c.8-.78.8-2.07 0-2.86zM5.41 20L4 18.59l7.72-7.72 1.47 1.35L5.41 20z\"/>\n",
              "  </svg>\n",
              "      </button>\n",
              "      \n",
              "  <style>\n",
              "    .colab-df-container {\n",
              "      display:flex;\n",
              "      flex-wrap:wrap;\n",
              "      gap: 12px;\n",
              "    }\n",
              "\n",
              "    .colab-df-convert {\n",
              "      background-color: #E8F0FE;\n",
              "      border: none;\n",
              "      border-radius: 50%;\n",
              "      cursor: pointer;\n",
              "      display: none;\n",
              "      fill: #1967D2;\n",
              "      height: 32px;\n",
              "      padding: 0 0 0 0;\n",
              "      width: 32px;\n",
              "    }\n",
              "\n",
              "    .colab-df-convert:hover {\n",
              "      background-color: #E2EBFA;\n",
              "      box-shadow: 0px 1px 2px rgba(60, 64, 67, 0.3), 0px 1px 3px 1px rgba(60, 64, 67, 0.15);\n",
              "      fill: #174EA6;\n",
              "    }\n",
              "\n",
              "    [theme=dark] .colab-df-convert {\n",
              "      background-color: #3B4455;\n",
              "      fill: #D2E3FC;\n",
              "    }\n",
              "\n",
              "    [theme=dark] .colab-df-convert:hover {\n",
              "      background-color: #434B5C;\n",
              "      box-shadow: 0px 1px 3px 1px rgba(0, 0, 0, 0.15);\n",
              "      filter: drop-shadow(0px 1px 2px rgba(0, 0, 0, 0.3));\n",
              "      fill: #FFFFFF;\n",
              "    }\n",
              "  </style>\n",
              "\n",
              "      <script>\n",
              "        const buttonEl =\n",
              "          document.querySelector('#df-2b1ece2f-101d-454a-a5f7-b83b4221c0bf button.colab-df-convert');\n",
              "        buttonEl.style.display =\n",
              "          google.colab.kernel.accessAllowed ? 'block' : 'none';\n",
              "\n",
              "        async function convertToInteractive(key) {\n",
              "          const element = document.querySelector('#df-2b1ece2f-101d-454a-a5f7-b83b4221c0bf');\n",
              "          const dataTable =\n",
              "            await google.colab.kernel.invokeFunction('convertToInteractive',\n",
              "                                                     [key], {});\n",
              "          if (!dataTable) return;\n",
              "\n",
              "          const docLinkHtml = 'Like what you see? Visit the ' +\n",
              "            '<a target=\"_blank\" href=https://colab.research.google.com/notebooks/data_table.ipynb>data table notebook</a>'\n",
              "            + ' to learn more about interactive tables.';\n",
              "          element.innerHTML = '';\n",
              "          dataTable['output_type'] = 'display_data';\n",
              "          await google.colab.output.renderOutput(dataTable, element);\n",
              "          const docLink = document.createElement('div');\n",
              "          docLink.innerHTML = docLinkHtml;\n",
              "          element.appendChild(docLink);\n",
              "        }\n",
              "      </script>\n",
              "    </div>\n",
              "  </div>\n",
              "  "
            ]
          },
          "metadata": {},
          "execution_count": 33
        }
      ],
      "source": [
        "# Take the data and create dataframe\n",
        "import pandas as pd\n",
        "df = pd.read_csv('/content/master.csv.zip')\n",
        "df"
      ]
    },
    {
      "cell_type": "code",
      "execution_count": 34,
      "metadata": {
        "id": "uVJKq2ZX9CJN",
        "colab": {
          "base_uri": "https://localhost:8080/"
        },
        "outputId": "929215fc-1882-4001-fd70-c1ddcbd09cc1"
      },
      "outputs": [
        {
          "output_type": "execute_result",
          "data": {
            "text/plain": [
              "(31756, 12)"
            ]
          },
          "metadata": {},
          "execution_count": 34
        }
      ],
      "source": [
        "df.shape # 31756 rows and 12 columns"
      ]
    },
    {
      "cell_type": "code",
      "source": [
        "df.size # total number of elements in dataframe"
      ],
      "metadata": {
        "colab": {
          "base_uri": "https://localhost:8080/"
        },
        "id": "LFvEcrcOULbc",
        "outputId": "96b43f02-5df5-44ed-9a9d-da646fddf505"
      },
      "execution_count": 36,
      "outputs": [
        {
          "output_type": "execute_result",
          "data": {
            "text/plain": [
              "381072"
            ]
          },
          "metadata": {},
          "execution_count": 36
        }
      ]
    },
    {
      "cell_type": "code",
      "source": [
        "df.info() # It gives the complete information about dataframe"
      ],
      "metadata": {
        "colab": {
          "base_uri": "https://localhost:8080/"
        },
        "id": "bFQSJ3bvULoP",
        "outputId": "15322f8e-d970-47a4-a050-298525c678e7"
      },
      "execution_count": 37,
      "outputs": [
        {
          "output_type": "stream",
          "name": "stdout",
          "text": [
            "<class 'pandas.core.frame.DataFrame'>\n",
            "RangeIndex: 31756 entries, 0 to 31755\n",
            "Data columns (total 12 columns):\n",
            " #   Column              Non-Null Count  Dtype  \n",
            "---  ------              --------------  -----  \n",
            " 0   country             31756 non-null  object \n",
            " 1   year                31756 non-null  int64  \n",
            " 2   sex                 31756 non-null  object \n",
            " 3   age                 31756 non-null  object \n",
            " 4   suicides_no         30556 non-null  float64\n",
            " 5   population          31756 non-null  int64  \n",
            " 6   suicides/100k pop   31756 non-null  float64\n",
            " 7   country-year        31756 non-null  object \n",
            " 8   HDI for year        12300 non-null  float64\n",
            " 9    gdp_for_year ($)   31756 non-null  object \n",
            " 10  gdp_per_capita ($)  31756 non-null  float64\n",
            " 11  generation          31756 non-null  object \n",
            "dtypes: float64(4), int64(2), object(6)\n",
            "memory usage: 2.9+ MB\n"
          ]
        }
      ]
    },
    {
      "cell_type": "code",
      "source": [
        "df.isnull().sum() #To check the null values officially"
      ],
      "metadata": {
        "colab": {
          "base_uri": "https://localhost:8080/"
        },
        "id": "DlPG96A0U4r_",
        "outputId": "6244b349-4dc1-4a27-d6da-15fa9c64e9e8"
      },
      "execution_count": 38,
      "outputs": [
        {
          "output_type": "execute_result",
          "data": {
            "text/plain": [
              "country                   0\n",
              "year                      0\n",
              "sex                       0\n",
              "age                       0\n",
              "suicides_no            1200\n",
              "population                0\n",
              "suicides/100k pop         0\n",
              "country-year              0\n",
              "HDI for year          19456\n",
              " gdp_for_year ($)         0\n",
              "gdp_per_capita ($)        0\n",
              "generation                0\n",
              "dtype: int64"
            ]
          },
          "metadata": {},
          "execution_count": 38
        }
      ]
    },
    {
      "cell_type": "code",
      "source": [
        "df.nunique() # To find out the unique element in each and every column"
      ],
      "metadata": {
        "colab": {
          "base_uri": "https://localhost:8080/"
        },
        "id": "YC79pKS7VKUK",
        "outputId": "db67a653-795f-4171-aef8-6c52ee403259"
      },
      "execution_count": 39,
      "outputs": [
        {
          "output_type": "execute_result",
          "data": {
            "text/plain": [
              "country                 114\n",
              "year                     36\n",
              "sex                       2\n",
              "age                       6\n",
              "suicides_no            2097\n",
              "population            25891\n",
              "suicides/100k pop      7466\n",
              "country-year           2649\n",
              "HDI for year            921\n",
              " gdp_for_year ($)      2631\n",
              "gdp_per_capita ($)     2561\n",
              "generation                6\n",
              "dtype: int64"
            ]
          },
          "metadata": {},
          "execution_count": 39
        }
      ]
    },
    {
      "cell_type": "code",
      "source": [
        "#I want the exact count of no of male and female\n",
        "df['sex'].value_counts()"
      ],
      "metadata": {
        "colab": {
          "base_uri": "https://localhost:8080/"
        },
        "id": "-IIAj7SgXU_Z",
        "outputId": "774f0213-7e4b-444a-a6ee-26f431def5f2"
      },
      "execution_count": 44,
      "outputs": [
        {
          "output_type": "execute_result",
          "data": {
            "text/plain": [
              "male      15878\n",
              "female    15878\n",
              "Name: sex, dtype: int64"
            ]
          },
          "metadata": {},
          "execution_count": 44
        }
      ]
    },
    {
      "cell_type": "code",
      "source": [
        "df.groupby('sex').size()"
      ],
      "metadata": {
        "colab": {
          "base_uri": "https://localhost:8080/"
        },
        "id": "nMBlan8sXVZz",
        "outputId": "fef857ff-6588-4073-cb77-94d3c33f6ae5"
      },
      "execution_count": 46,
      "outputs": [
        {
          "output_type": "execute_result",
          "data": {
            "text/plain": [
              "sex\n",
              "female    15878\n",
              "male      15878\n",
              "dtype: int64"
            ]
          },
          "metadata": {},
          "execution_count": 46
        }
      ]
    },
    {
      "cell_type": "code",
      "source": [
        "df['sex'].value_counts()"
      ],
      "metadata": {
        "colab": {
          "base_uri": "https://localhost:8080/"
        },
        "id": "sIoHwWAVXVko",
        "outputId": "e685925b-a887-429b-9973-2e30baa8f321"
      },
      "execution_count": 47,
      "outputs": [
        {
          "output_type": "execute_result",
          "data": {
            "text/plain": [
              "male      15878\n",
              "female    15878\n",
              "Name: sex, dtype: int64"
            ]
          },
          "metadata": {},
          "execution_count": 47
        }
      ]
    },
    {
      "cell_type": "code",
      "source": [
        "df.groupby(['sex','suicides_no']).size()"
      ],
      "metadata": {
        "colab": {
          "base_uri": "https://localhost:8080/"
        },
        "id": "pii1rYR_cel_",
        "outputId": "3d88f7d8-265f-4444-da8f-fba6a6c6b282"
      },
      "execution_count": 51,
      "outputs": [
        {
          "output_type": "execute_result",
          "data": {
            "text/plain": [
              "sex     suicides_no\n",
              "female  0.0            2833\n",
              "        1.0             947\n",
              "        2.0             664\n",
              "        3.0             511\n",
              "        4.0             424\n",
              "                       ... \n",
              "male    20705.0           1\n",
              "        21063.0           1\n",
              "        21262.0           1\n",
              "        21706.0           1\n",
              "        22338.0           1\n",
              "Length: 2895, dtype: int64"
            ]
          },
          "metadata": {},
          "execution_count": 51
        }
      ]
    },
    {
      "cell_type": "code",
      "source": [
        "# total number of male and female deaths\n",
        "import numpy as np\n",
        "suicide_m = np.sum((df['sex']=='male')&(df['suicides_no']))\n",
        "suicide_f = np.sum((df['sex']=='female')&(df['suicides_no']))\n",
        "print(suicide_m)\n",
        "print(suicide_f)"
      ],
      "metadata": {
        "colab": {
          "base_uri": "https://localhost:8080/"
        },
        "id": "kXCRBGIscfTz",
        "outputId": "a6b72e90-8b1c-4032-df18-23aa7a09e07f"
      },
      "execution_count": 53,
      "outputs": [
        {
          "output_type": "stream",
          "name": "stdout",
          "text": [
            "13535\n",
            "12445\n"
          ]
        }
      ]
    },
    {
      "cell_type": "code",
      "source": [
        "df[['sex','suicides_no']].value_counts()"
      ],
      "metadata": {
        "colab": {
          "base_uri": "https://localhost:8080/"
        },
        "id": "5gztYlw4cflQ",
        "outputId": "362cc5f0-3f79-4591-cfa3-77685148bb0d"
      },
      "execution_count": 55,
      "outputs": [
        {
          "output_type": "execute_result",
          "data": {
            "text/plain": [
              "sex     suicides_no\n",
              "female  0.0            2833\n",
              "male    0.0            1743\n",
              "female  1.0             947\n",
              "male    1.0             720\n",
              "female  2.0             664\n",
              "                       ... \n",
              "        680.0             1\n",
              "        683.0             1\n",
              "male    876.0             1\n",
              "        875.0             1\n",
              "        22338.0           1\n",
              "Length: 2895, dtype: int64"
            ]
          },
          "metadata": {},
          "execution_count": 55
        }
      ]
    },
    {
      "cell_type": "code",
      "source": [
        "np.min(df['age']) #To find the minimum age "
      ],
      "metadata": {
        "colab": {
          "base_uri": "https://localhost:8080/",
          "height": 35
        },
        "id": "BuBhNrVIcgFX",
        "outputId": "578ae6be-e5f0-482e-ea51-72a420aefe8c"
      },
      "execution_count": 62,
      "outputs": [
        {
          "output_type": "execute_result",
          "data": {
            "text/plain": [
              "'15-24 years'"
            ],
            "application/vnd.google.colaboratory.intrinsic+json": {
              "type": "string"
            }
          },
          "metadata": {},
          "execution_count": 62
        }
      ]
    },
    {
      "cell_type": "code",
      "source": [
        "np.max(df['age']) #To find the maximum age"
      ],
      "metadata": {
        "colab": {
          "base_uri": "https://localhost:8080/",
          "height": 35
        },
        "id": "GpwXeWb-cgVf",
        "outputId": "44b8c458-9cd4-4201-e52b-a9d048b07a84"
      },
      "execution_count": 63,
      "outputs": [
        {
          "output_type": "execute_result",
          "data": {
            "text/plain": [
              "'75+ years'"
            ],
            "application/vnd.google.colaboratory.intrinsic+json": {
              "type": "string"
            }
          },
          "metadata": {},
          "execution_count": 63
        }
      ]
    },
    {
      "cell_type": "code",
      "source": [
        "df[['country','population']].value_counts() #Population according to country"
      ],
      "metadata": {
        "colab": {
          "base_uri": "https://localhost:8080/"
        },
        "id": "Y6jJLGGCcgjl",
        "outputId": "b317b1bd-042f-419d-c783-2202359b3c15"
      },
      "execution_count": 66,
      "outputs": [
        {
          "output_type": "execute_result",
          "data": {
            "text/plain": [
              "country     population\n",
              "Barbados    24000         14\n",
              "Belgium     11427054      12\n",
              "            11538604      12\n",
              "Greece      10754679      12\n",
              "            10732882      12\n",
              "                          ..\n",
              "France      4952400        1\n",
              "            4856900        1\n",
              "            4746800        1\n",
              "            4663000        1\n",
              "Kazakhstan  1205800        1\n",
              "Length: 27522, dtype: int64"
            ]
          },
          "metadata": {},
          "execution_count": 66
        }
      ]
    },
    {
      "cell_type": "code",
      "source": [
        "df[['country','generation']].value_counts()"
      ],
      "metadata": {
        "colab": {
          "base_uri": "https://localhost:8080/"
        },
        "id": "7GvaBkG3hmdn",
        "outputId": "61ed9415-e262-4ef4-b21e-bbf5388e5d20"
      },
      "execution_count": 67,
      "outputs": [
        {
          "output_type": "execute_result",
          "data": {
            "text/plain": [
              "country      generation  \n",
              "Austria      Generation X    106\n",
              "Iceland      Generation X    106\n",
              "Netherlands  Generation X    106\n",
              "Mauritius    Generation X    106\n",
              "Chile        Generation X    104\n",
              "                            ... \n",
              "Macau        Millenials        2\n",
              "Cabo Verde   Silent            2\n",
              "Mongolia     Boomers           2\n",
              "Macau        Generation X      2\n",
              "Cabo Verde   Boomers           2\n",
              "Length: 644, dtype: int64"
            ]
          },
          "metadata": {},
          "execution_count": 67
        }
      ]
    },
    {
      "cell_type": "code",
      "source": [
        "df.describe()"
      ],
      "metadata": {
        "colab": {
          "base_uri": "https://localhost:8080/",
          "height": 300
        },
        "id": "KDV7-vDAjVs2",
        "outputId": "bcfbe312-87d5-4c1d-8c62-6299799ccd76"
      },
      "execution_count": 75,
      "outputs": [
        {
          "output_type": "execute_result",
          "data": {
            "text/plain": [
              "               year   suicides_no    population  suicides/100k pop  \\\n",
              "count  31756.000000  30556.000000  3.175600e+04       31756.000000   \n",
              "mean    2003.395390    237.136242  7.217454e+06          11.716668   \n",
              "std        9.760604    867.956107  5.799323e+07          21.590926   \n",
              "min     1985.000000      0.000000  2.780000e+02           0.000000   \n",
              "25%     1996.000000      3.000000  1.288210e+05           0.370000   \n",
              "50%     2004.000000     25.000000  5.468325e+05           4.285000   \n",
              "75%     2011.000000    132.000000  2.908763e+06          14.560000   \n",
              "max     2020.000000  22338.000000  1.411100e+09         515.092734   \n",
              "\n",
              "       HDI for year  gdp_per_capita ($)  \n",
              "count  12300.000000        31756.000000  \n",
              "mean       0.793666        17588.954606  \n",
              "std        0.097480        19464.861140  \n",
              "min        0.377790          251.000000  \n",
              "25%        0.727000         3765.000000  \n",
              "50%        0.800457        10062.000000  \n",
              "75%        0.874000        25622.000000  \n",
              "max        0.975114       126352.000000  "
            ],
            "text/html": [
              "\n",
              "  <div id=\"df-5f8da23f-724d-48d3-a591-4402919bcd5a\">\n",
              "    <div class=\"colab-df-container\">\n",
              "      <div>\n",
              "<style scoped>\n",
              "    .dataframe tbody tr th:only-of-type {\n",
              "        vertical-align: middle;\n",
              "    }\n",
              "\n",
              "    .dataframe tbody tr th {\n",
              "        vertical-align: top;\n",
              "    }\n",
              "\n",
              "    .dataframe thead th {\n",
              "        text-align: right;\n",
              "    }\n",
              "</style>\n",
              "<table border=\"1\" class=\"dataframe\">\n",
              "  <thead>\n",
              "    <tr style=\"text-align: right;\">\n",
              "      <th></th>\n",
              "      <th>year</th>\n",
              "      <th>suicides_no</th>\n",
              "      <th>population</th>\n",
              "      <th>suicides/100k pop</th>\n",
              "      <th>HDI for year</th>\n",
              "      <th>gdp_per_capita ($)</th>\n",
              "    </tr>\n",
              "  </thead>\n",
              "  <tbody>\n",
              "    <tr>\n",
              "      <th>count</th>\n",
              "      <td>31756.000000</td>\n",
              "      <td>30556.000000</td>\n",
              "      <td>3.175600e+04</td>\n",
              "      <td>31756.000000</td>\n",
              "      <td>12300.000000</td>\n",
              "      <td>31756.000000</td>\n",
              "    </tr>\n",
              "    <tr>\n",
              "      <th>mean</th>\n",
              "      <td>2003.395390</td>\n",
              "      <td>237.136242</td>\n",
              "      <td>7.217454e+06</td>\n",
              "      <td>11.716668</td>\n",
              "      <td>0.793666</td>\n",
              "      <td>17588.954606</td>\n",
              "    </tr>\n",
              "    <tr>\n",
              "      <th>std</th>\n",
              "      <td>9.760604</td>\n",
              "      <td>867.956107</td>\n",
              "      <td>5.799323e+07</td>\n",
              "      <td>21.590926</td>\n",
              "      <td>0.097480</td>\n",
              "      <td>19464.861140</td>\n",
              "    </tr>\n",
              "    <tr>\n",
              "      <th>min</th>\n",
              "      <td>1985.000000</td>\n",
              "      <td>0.000000</td>\n",
              "      <td>2.780000e+02</td>\n",
              "      <td>0.000000</td>\n",
              "      <td>0.377790</td>\n",
              "      <td>251.000000</td>\n",
              "    </tr>\n",
              "    <tr>\n",
              "      <th>25%</th>\n",
              "      <td>1996.000000</td>\n",
              "      <td>3.000000</td>\n",
              "      <td>1.288210e+05</td>\n",
              "      <td>0.370000</td>\n",
              "      <td>0.727000</td>\n",
              "      <td>3765.000000</td>\n",
              "    </tr>\n",
              "    <tr>\n",
              "      <th>50%</th>\n",
              "      <td>2004.000000</td>\n",
              "      <td>25.000000</td>\n",
              "      <td>5.468325e+05</td>\n",
              "      <td>4.285000</td>\n",
              "      <td>0.800457</td>\n",
              "      <td>10062.000000</td>\n",
              "    </tr>\n",
              "    <tr>\n",
              "      <th>75%</th>\n",
              "      <td>2011.000000</td>\n",
              "      <td>132.000000</td>\n",
              "      <td>2.908763e+06</td>\n",
              "      <td>14.560000</td>\n",
              "      <td>0.874000</td>\n",
              "      <td>25622.000000</td>\n",
              "    </tr>\n",
              "    <tr>\n",
              "      <th>max</th>\n",
              "      <td>2020.000000</td>\n",
              "      <td>22338.000000</td>\n",
              "      <td>1.411100e+09</td>\n",
              "      <td>515.092734</td>\n",
              "      <td>0.975114</td>\n",
              "      <td>126352.000000</td>\n",
              "    </tr>\n",
              "  </tbody>\n",
              "</table>\n",
              "</div>\n",
              "      <button class=\"colab-df-convert\" onclick=\"convertToInteractive('df-5f8da23f-724d-48d3-a591-4402919bcd5a')\"\n",
              "              title=\"Convert this dataframe to an interactive table.\"\n",
              "              style=\"display:none;\">\n",
              "        \n",
              "  <svg xmlns=\"http://www.w3.org/2000/svg\" height=\"24px\"viewBox=\"0 0 24 24\"\n",
              "       width=\"24px\">\n",
              "    <path d=\"M0 0h24v24H0V0z\" fill=\"none\"/>\n",
              "    <path d=\"M18.56 5.44l.94 2.06.94-2.06 2.06-.94-2.06-.94-.94-2.06-.94 2.06-2.06.94zm-11 1L8.5 8.5l.94-2.06 2.06-.94-2.06-.94L8.5 2.5l-.94 2.06-2.06.94zm10 10l.94 2.06.94-2.06 2.06-.94-2.06-.94-.94-2.06-.94 2.06-2.06.94z\"/><path d=\"M17.41 7.96l-1.37-1.37c-.4-.4-.92-.59-1.43-.59-.52 0-1.04.2-1.43.59L10.3 9.45l-7.72 7.72c-.78.78-.78 2.05 0 2.83L4 21.41c.39.39.9.59 1.41.59.51 0 1.02-.2 1.41-.59l7.78-7.78 2.81-2.81c.8-.78.8-2.07 0-2.86zM5.41 20L4 18.59l7.72-7.72 1.47 1.35L5.41 20z\"/>\n",
              "  </svg>\n",
              "      </button>\n",
              "      \n",
              "  <style>\n",
              "    .colab-df-container {\n",
              "      display:flex;\n",
              "      flex-wrap:wrap;\n",
              "      gap: 12px;\n",
              "    }\n",
              "\n",
              "    .colab-df-convert {\n",
              "      background-color: #E8F0FE;\n",
              "      border: none;\n",
              "      border-radius: 50%;\n",
              "      cursor: pointer;\n",
              "      display: none;\n",
              "      fill: #1967D2;\n",
              "      height: 32px;\n",
              "      padding: 0 0 0 0;\n",
              "      width: 32px;\n",
              "    }\n",
              "\n",
              "    .colab-df-convert:hover {\n",
              "      background-color: #E2EBFA;\n",
              "      box-shadow: 0px 1px 2px rgba(60, 64, 67, 0.3), 0px 1px 3px 1px rgba(60, 64, 67, 0.15);\n",
              "      fill: #174EA6;\n",
              "    }\n",
              "\n",
              "    [theme=dark] .colab-df-convert {\n",
              "      background-color: #3B4455;\n",
              "      fill: #D2E3FC;\n",
              "    }\n",
              "\n",
              "    [theme=dark] .colab-df-convert:hover {\n",
              "      background-color: #434B5C;\n",
              "      box-shadow: 0px 1px 3px 1px rgba(0, 0, 0, 0.15);\n",
              "      filter: drop-shadow(0px 1px 2px rgba(0, 0, 0, 0.3));\n",
              "      fill: #FFFFFF;\n",
              "    }\n",
              "  </style>\n",
              "\n",
              "      <script>\n",
              "        const buttonEl =\n",
              "          document.querySelector('#df-5f8da23f-724d-48d3-a591-4402919bcd5a button.colab-df-convert');\n",
              "        buttonEl.style.display =\n",
              "          google.colab.kernel.accessAllowed ? 'block' : 'none';\n",
              "\n",
              "        async function convertToInteractive(key) {\n",
              "          const element = document.querySelector('#df-5f8da23f-724d-48d3-a591-4402919bcd5a');\n",
              "          const dataTable =\n",
              "            await google.colab.kernel.invokeFunction('convertToInteractive',\n",
              "                                                     [key], {});\n",
              "          if (!dataTable) return;\n",
              "\n",
              "          const docLinkHtml = 'Like what you see? Visit the ' +\n",
              "            '<a target=\"_blank\" href=https://colab.research.google.com/notebooks/data_table.ipynb>data table notebook</a>'\n",
              "            + ' to learn more about interactive tables.';\n",
              "          element.innerHTML = '';\n",
              "          dataTable['output_type'] = 'display_data';\n",
              "          await google.colab.output.renderOutput(dataTable, element);\n",
              "          const docLink = document.createElement('div');\n",
              "          docLink.innerHTML = docLinkHtml;\n",
              "          element.appendChild(docLink);\n",
              "        }\n",
              "      </script>\n",
              "    </div>\n",
              "  </div>\n",
              "  "
            ]
          },
          "metadata": {},
          "execution_count": 75
        }
      ]
    },
    {
      "cell_type": "code",
      "source": [
        "df[['year','suicides_no']].value_counts() #relation of year and suicide cases"
      ],
      "metadata": {
        "colab": {
          "base_uri": "https://localhost:8080/"
        },
        "id": "QH-N7QLrjjQw",
        "outputId": "1f2716fb-97d8-4fbc-df1d-d77fff3638a3"
      },
      "execution_count": 76,
      "outputs": [
        {
          "output_type": "execute_result",
          "data": {
            "text/plain": [
              "year  suicides_no\n",
              "2006  0.0            195\n",
              "2005  0.0            182\n",
              "2000  0.0            180\n",
              "2001  0.0            180\n",
              "2009  0.0            178\n",
              "                    ... \n",
              "2001  394.0            1\n",
              "      393.0            1\n",
              "      392.0            1\n",
              "      389.0            1\n",
              "2002  519.0            1\n",
              "Length: 10487, dtype: int64"
            ]
          },
          "metadata": {},
          "execution_count": 76
        }
      ]
    },
    {
      "cell_type": "code",
      "source": [
        "# VISUALIZATION-\n",
        "import seaborn as sns #import the library\n",
        "sns.countplot(x = 'sex',data = df)"
      ],
      "metadata": {
        "colab": {
          "base_uri": "https://localhost:8080/",
          "height": 296
        },
        "id": "ONG6OpMhkB66",
        "outputId": "3863a73a-b281-427a-d3d2-0c40790cd267"
      },
      "execution_count": 78,
      "outputs": [
        {
          "output_type": "execute_result",
          "data": {
            "text/plain": [
              "<matplotlib.axes._subplots.AxesSubplot at 0x7fb64acea190>"
            ]
          },
          "metadata": {},
          "execution_count": 78
        },
        {
          "output_type": "display_data",
          "data": {
            "text/plain": [
              "<Figure size 432x288 with 1 Axes>"
            ],
            "image/png": "[encoded data removed]"
          },
          "metadata": {
            "needs_background": "light"
          }
        }
      ]
    }
  ],
  "metadata": {
    "colab": {
      "provenance": []
    },
    "kernelspec": {
      "display_name": "Python 3",
      "name": "python3"
    },
    "language_info": {
      "name": "python"
    }
  },
  "nbformat": 4,
  "nbformat_minor": 0
}